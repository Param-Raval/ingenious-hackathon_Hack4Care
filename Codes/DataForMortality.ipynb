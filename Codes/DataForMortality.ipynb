{
  "nbformat": 4,
  "nbformat_minor": 0,
  "metadata": {
    "colab": {
      "name": "DataForMortality.ipynb",
      "provenance": []
    },
    "kernelspec": {
      "name": "python3",
      "display_name": "Python 3"
    }
  },
  "cells": [
    {
      "cell_type": "code",
      "metadata": {
        "id": "e4dvu-rRZ0EZ",
        "colab_type": "code",
        "colab": {
          "base_uri": "https://localhost:8080/",
          "height": 248
        },
        "outputId": "deecc469-e3c2-4db4-ab1f-d3cda3c8cfe7"
      },
      "source": [
        "import matplotlib.pyplot as plt\n",
        "Disease = [3,97]\n",
        "rates = ['Fatality Rate', 'Recovery Rate']\n",
        "colors = ['r', 'y']\n",
        "plt.pie(Disease, labels=rates, colors=colors, startangle=90, autopct='%.1f%%')\n",
        "plt.show()"
      ],
      "execution_count": 4,
      "outputs": [
        {
          "output_type": "display_data",
          "data": {
            "image/png": "[encoded data removed]",
            "text/plain": [
              "<Figure size 432x288 with 1 Axes>"
            ]
          },
          "metadata": {
            "tags": []
          }
        }
      ]
    },
    {
      "cell_type": "code",
      "metadata": {
        "id": "8mTSsBq8Z1m8",
        "colab_type": "code",
        "colab": {}
      },
      "source": [
        ""
      ],
      "execution_count": 0,
      "outputs": []
    }
  ]
}